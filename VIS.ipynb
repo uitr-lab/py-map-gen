{
 "cells": [
  {
   "cell_type": "code",
   "execution_count": null,
   "id": "dde00f72",
   "metadata": {},
   "outputs": [
    {
     "name": "stdout",
     "output_type": "stream",
     "text": [
      "Collecting git+https://github.com/uitr-lab/uitr-map-gen.git@main\n",
      "  Cloning https://github.com/uitr-lab/uitr-map-gen.git (to revision main) to /private/var/folders/hf/2p4mg3l141g4gyft9pz97_bh0000gq/T/pip-req-build-s4lokrzj\n"
     ]
    },
    {
     "name": "stderr",
     "output_type": "stream",
     "text": [
      "  Running command git clone --filter=blob:none --quiet https://github.com/uitr-lab/uitr-map-gen.git /private/var/folders/hf/2p4mg3l141g4gyft9pz97_bh0000gq/T/pip-req-build-s4lokrzj\n"
     ]
    },
    {
     "name": "stdout",
     "output_type": "stream",
     "text": [
      "  Resolved https://github.com/uitr-lab/uitr-map-gen.git to commit 2f6562c6e19c5c4cdf97628f39af961ff275976e\n",
      "  Installing build dependencies: started\n",
      "  Installing build dependencies: finished with status 'done'\n",
      "  Getting requirements to build wheel: started\n",
      "  Getting requirements to build wheel: finished with status 'done'\n",
      "  Preparing metadata (pyproject.toml): started\n",
      "  Preparing metadata (pyproject.toml): finished with status 'done'\n",
      "Requirement already satisfied: geopandas>=1.0.1 in ./venv/lib/python3.13/site-packages (from uitr-map-gen==0.1.10) (1.0.1)\n",
      "Requirement already satisfied: pyproj>=3.7.1 in ./venv/lib/python3.13/site-packages (from uitr-map-gen==0.1.10) (3.7.1)\n",
      "Requirement already satisfied: pandas>=2.2.3 in ./venv/lib/python3.13/site-packages (from uitr-map-gen==0.1.10) (2.2.3)\n",
      "Requirement already satisfied: openpyxl>=3.1.5 in ./venv/lib/python3.13/site-packages (from uitr-map-gen==0.1.10) (3.1.5)\n",
      "Requirement already satisfied: numpy>=1.22 in ./venv/lib/python3.13/site-packages (from geopandas>=1.0.1->uitr-map-gen==0.1.10) (2.2.5)\n",
      "Requirement already satisfied: pyogrio>=0.7.2 in ./venv/lib/python3.13/site-packages (from geopandas>=1.0.1->uitr-map-gen==0.1.10) (0.11.0)\n",
      "Requirement already satisfied: packaging in ./venv/lib/python3.13/site-packages (from geopandas>=1.0.1->uitr-map-gen==0.1.10) (25.0)\n",
      "Requirement already satisfied: shapely>=2.0.0 in ./venv/lib/python3.13/site-packages (from geopandas>=1.0.1->uitr-map-gen==0.1.10) (2.1.0)\n",
      "Requirement already satisfied: et-xmlfile in ./venv/lib/python3.13/site-packages (from openpyxl>=3.1.5->uitr-map-gen==0.1.10) (2.0.0)\n",
      "Requirement already satisfied: python-dateutil>=2.8.2 in ./venv/lib/python3.13/site-packages (from pandas>=2.2.3->uitr-map-gen==0.1.10) (2.9.0.post0)\n",
      "Requirement already satisfied: pytz>=2020.1 in ./venv/lib/python3.13/site-packages (from pandas>=2.2.3->uitr-map-gen==0.1.10) (2025.2)\n",
      "Requirement already satisfied: tzdata>=2022.7 in ./venv/lib/python3.13/site-packages (from pandas>=2.2.3->uitr-map-gen==0.1.10) (2025.2)\n",
      "Requirement already satisfied: certifi in ./venv/lib/python3.13/site-packages (from pyproj>=3.7.1->uitr-map-gen==0.1.10) (2025.4.26)\n",
      "Requirement already satisfied: six>=1.5 in ./venv/lib/python3.13/site-packages (from python-dateutil>=2.8.2->pandas>=2.2.3->uitr-map-gen==0.1.10) (1.17.0)\n",
      "{'input': './example/Input_Arc.csv', 'grid': './example/Grid', 'map': {'access-token': 'pk.eyJ1Ijoibmlja2JsYWNrd2VsbCIsImEiOiJjbTJkajBjNjYwcmRtMm5wbTRjMnI3ejV0In0.-beMyDk37G1qY--ZaPXnUg', 'options-json': {'style': 'dark', 'grid': 'hex', 'source-color': '#d00b8abd', 'dest-color': '#b0c334eb', 'hex-grid-zoom': 9, 'square-size': 400, 'min-height': 50, 'height-scale': 0.05, 'height-scale-dest': 0.5, 'arc-width': 1, 'data-sample': 1, 'arc-opacity': 0.2, 'arc-sample': 0.05, 'arc-height': 0.2, 'grid-opacity': 0.4, 'filter': [{'field': 'Activity_Participated', 'label': 'Activity'}, {'field': 'M_TripStart', 'label': 'Time'}]}}}\n",
      "[PosixPath('example/Grid/Updated_Grid.shp')]\n"
     ]
    },
    {
     "name": "stderr",
     "output_type": "stream",
     "text": [
      "\n",
      "\u001b[1m[\u001b[0m\u001b[34;49mnotice\u001b[0m\u001b[1;39;49m]\u001b[0m\u001b[39;49m A new release of pip is available: \u001b[0m\u001b[31;49m25.0\u001b[0m\u001b[39;49m -> \u001b[0m\u001b[32;49m25.1.1\u001b[0m\n",
      "\u001b[1m[\u001b[0m\u001b[34;49mnotice\u001b[0m\u001b[1;39;49m]\u001b[0m\u001b[39;49m To update, run: \u001b[0m\u001b[32;49mpip install --upgrade pip\u001b[0m\n"
     ]
    },
    {
     "name": "stdout",
     "output_type": "stream",
     "text": [
      "ACCESS_TOKEN:pk.eyJ1Ijoibmlja2JsYWNrd2VsbCIsImEiOiJjbTJkajBjNjYwcmRtMm5wbTRjMnI3ejV0In0.-beMyDk37G1qY--ZaPXnUg\n",
      "OPTIONS_JSON:{'style': 'dark', 'grid': 'hex', 'source-color': '#d00b8abd', 'dest-color': '#b0c334eb', 'hex-grid-zoom': 9, 'square-size': 400, 'min-height': 50, 'height-scale': 0.05, 'height-scale-dest': 0.5, 'arc-width': 1, 'data-sample': 1, 'arc-opacity': 0.2, 'arc-sample': 0.05, 'arc-height': 0.2, 'grid-opacity': 0.4, 'filter': [{'field': 'Activity_Participated', 'label': 'Activity'}, {'field': 'M_TripStart', 'label': 'Time'}]}\n"
     ]
    },
    {
     "data": {
      "text/plain": [
       "True"
      ]
     },
     "execution_count": 15,
     "metadata": {},
     "output_type": "execute_result"
    }
   ],
   "source": [
    "config={\n",
    "    \"input\": \"./example/Input_Arc.csv\",\n",
    "    \"grid\":\"./example/Grid\",\n",
    "    \"map\": {\n",
    "        \n",
    "        # go to https://www.mapbox.com/ sign up and find your access token\n",
    "        \"access-token\": \"XXXXXXXXXXX\",\n",
    "        \"options-json\":{\n",
    "            \"style\": \"dark\", # [light, dark, street]\n",
    "            \"grid\":\"hex\", # [hex, square] default: hex, \n",
    "            \"source-color\": \"#d00b8abd\",  # [00-ff], #{a}{r}{g}{b}\n",
    "            \"dest-color\": \"#b0c334eb\",\n",
    "            \"hex-grid-zoom\":9, # only if using hexmap\n",
    "            \"square-size\":400, # meters, only if using square cells\n",
    "            \"min-height\":50,\n",
    "            \"height-scale\":0.05,\n",
    "            \"height-scale-dest\":0.5,\n",
    "            \"arc-width\":1,\n",
    "            \"data-sample\":1,\n",
    "            \"arc-opacity\":0.2, # if 0, then arcs are ommited\n",
    "            \"arc-sample\":0.05,\n",
    "            \"arc-height\":1,\n",
    "            \"grid-opacity\":0.4,\n",
    "            \"filter\":[\n",
    "                {\"field\":\"Activity_Participated\", \"label\":\"Activity\"},\n",
    "                {\"field\":\"M_TripStart\", \"label\":\"Time\"}\n",
    "            ]\n",
    "        }\n",
    "    }\n",
    "}\n",
    "out='./example/my-map.html'\n",
    "\n",
    "\n",
    "\n",
    "\n",
    "\n",
    "import sys, subprocess\n",
    "\n",
    "\n",
    "for package in [\n",
    "    'git+https://github.com/uitr-lab/uitr-map-gen.git@main'\n",
    "    ]:\n",
    "    subprocess.check_call([sys.executable, \"-m\", \"pip\", \"install\", '--upgrade', package])\n",
    "    \n",
    "import uitr_map_gen\n",
    "uitr_map_gen.generate(config, out=out)\n",
    "\n",
    "\n",
    "\n",
    "import webbrowser\n",
    "import os\n",
    "\n",
    "# Path to your local HTML file\n",
    "file_path = os.path.abspath(out)  # Replace with your actual file\n",
    "webbrowser.open(f\"file://{file_path}\")\n",
    "\n"
   ]
  }
 ],
 "metadata": {
  "kernelspec": {
   "display_name": "venv",
   "language": "python",
   "name": "python3"
  },
  "language_info": {
   "codemirror_mode": {
    "name": "ipython",
    "version": 3
   },
   "file_extension": ".py",
   "mimetype": "text/x-python",
   "name": "python",
   "nbconvert_exporter": "python",
   "pygments_lexer": "ipython3",
   "version": "3.13.3"
  }
 },
 "nbformat": 4,
 "nbformat_minor": 5
}
